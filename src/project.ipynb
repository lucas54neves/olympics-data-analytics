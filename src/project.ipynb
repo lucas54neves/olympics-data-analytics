{
 "cells": [
  {
   "cell_type": "markdown",
   "metadata": {
    "id": "UO10cGdM5SGX"
   },
   "source": [
    "# História das Olimpíadas  \n",
    "_(créditos ao prof. Rafael Moreira)_\n",
    "\n",
    "Após um ano de atraso por conta da pandemia de Covid-19, as atenções do mundo todo se voltaram para Tóquio, no Japão, para acompanhar mais uma edição das Olimpíadas.\n",
    "\n",
    "No Brasil não foi diferente, e muitos se uniram para torcer por nossos atletas em diferentes competições, tanto em esportes onde o Brasil já possui tradição quanto em novos esportes.\n",
    "\n",
    "Vamos aproveitar o clima para estudar um pouco das Olimpíadas! Utilizaremos um _dataset_ com 120 anos de dados históricos das Olimpíadas, cobrindo desde os jogos de Atenas 1896 até Rio 2016. \n",
    "\n",
    "Faça o download do _dataset_ em https://www.kaggle.com/heesoo37/120-years-of-olympic-history-athletes-and-results e carregue o arquivo ```athlete_events.csv``` para um DataFrame utilizando Pandas. Aproveite para explorar seu DataFrame e se familiarizar com a sua estrutura. \n",
    "\n",
    "OBS: Fique à vontade para acrescentar mais células Python conforme necessário em qualquer etapa do exercício."
   ]
  },
  {
   "cell_type": "markdown",
   "metadata": {
    "id": "1-In92bH5SGd"
   },
   "source": [
    "## 1. O Brasil nas Olimpíadas\n",
    "\n",
    "Vamos começar estudando o desempenho do nossos próprio país. Gere um DataFrame novo contendo apenas as informações sobre atletas brasileiros."
   ]
  },
  {
   "cell_type": "code",
   "execution_count": 3,
   "metadata": {
    "colab": {
     "base_uri": "https://localhost:8080/"
    },
    "executionInfo": {
     "elapsed": 3688,
     "status": "ok",
     "timestamp": 1634250156076,
     "user": {
      "displayName": "Lucas Neves",
      "photoUrl": "https://lh3.googleusercontent.com/a-/AOh14GhwY13Y95qBrTNrQRqtFjQ4dZr49VLcT0CL9r_cng=s64",
      "userId": "06240568517972348464"
     },
     "user_tz": 180
    },
    "id": "c0MzysV95SGe",
    "outputId": "d2fde249-a387-48b3-f53e-68a1f1b1b1a8"
   },
   "outputs": [
    {
     "name": "stdout",
     "output_type": "stream",
     "text": [
      "Requirement already satisfied: pandas in c:\\users\\lucas\\anaconda3\\lib\\site-packages (1.2.4)\n",
      "Requirement already satisfied: python-dateutil>=2.7.3 in c:\\users\\lucas\\anaconda3\\lib\\site-packages (from pandas) (2.8.1)\n",
      "Requirement already satisfied: pytz>=2017.3 in c:\\users\\lucas\\anaconda3\\lib\\site-packages (from pandas) (2021.1)\n",
      "Requirement already satisfied: numpy>=1.16.5 in c:\\users\\lucas\\anaconda3\\lib\\site-packages (from pandas) (1.20.1)\n",
      "Requirement already satisfied: six>=1.5 in c:\\users\\lucas\\anaconda3\\lib\\site-packages (from python-dateutil>=2.7.3->pandas) (1.15.0)\n"
     ]
    }
   ],
   "source": [
    "!pip install pandas"
   ]
  },
  {
   "cell_type": "code",
   "execution_count": 2,
   "metadata": {
    "executionInfo": {
     "elapsed": 227,
     "status": "ok",
     "timestamp": 1634250255842,
     "user": {
      "displayName": "Lucas Neves",
      "photoUrl": "https://lh3.googleusercontent.com/a-/AOh14GhwY13Y95qBrTNrQRqtFjQ4dZr49VLcT0CL9r_cng=s64",
      "userId": "06240568517972348464"
     },
     "user_tz": 180
    },
    "id": "ZFafcc4g56zQ"
   },
   "outputs": [],
   "source": [
    "import pandas as pd"
   ]
  },
  {
   "cell_type": "code",
   "execution_count": 5,
   "metadata": {},
   "outputs": [
    {
     "data": {
      "text/html": [
       "<div>\n",
       "<style scoped>\n",
       "    .dataframe tbody tr th:only-of-type {\n",
       "        vertical-align: middle;\n",
       "    }\n",
       "\n",
       "    .dataframe tbody tr th {\n",
       "        vertical-align: top;\n",
       "    }\n",
       "\n",
       "    .dataframe thead th {\n",
       "        text-align: right;\n",
       "    }\n",
       "</style>\n",
       "<table border=\"1\" class=\"dataframe\">\n",
       "  <thead>\n",
       "    <tr style=\"text-align: right;\">\n",
       "      <th></th>\n",
       "      <th>ID</th>\n",
       "      <th>Name</th>\n",
       "      <th>Sex</th>\n",
       "      <th>Age</th>\n",
       "      <th>Height</th>\n",
       "      <th>Weight</th>\n",
       "      <th>Team</th>\n",
       "      <th>NOC</th>\n",
       "      <th>Games</th>\n",
       "      <th>Year</th>\n",
       "      <th>Season</th>\n",
       "      <th>City</th>\n",
       "      <th>Sport</th>\n",
       "      <th>Event</th>\n",
       "      <th>Medal</th>\n",
       "    </tr>\n",
       "  </thead>\n",
       "  <tbody>\n",
       "    <tr>\n",
       "      <th>665</th>\n",
       "      <td>386</td>\n",
       "      <td>Alexandre Abeid</td>\n",
       "      <td>M</td>\n",
       "      <td>22.0</td>\n",
       "      <td>194.0</td>\n",
       "      <td>92.0</td>\n",
       "      <td>Brazil</td>\n",
       "      <td>BRA</td>\n",
       "      <td>1972 Summer</td>\n",
       "      <td>1972</td>\n",
       "      <td>Summer</td>\n",
       "      <td>Munich</td>\n",
       "      <td>Volleyball</td>\n",
       "      <td>Volleyball Men's Volleyball</td>\n",
       "      <td>NaN</td>\n",
       "    </tr>\n",
       "    <tr>\n",
       "      <th>666</th>\n",
       "      <td>386</td>\n",
       "      <td>Alexandre Abeid</td>\n",
       "      <td>M</td>\n",
       "      <td>26.0</td>\n",
       "      <td>194.0</td>\n",
       "      <td>92.0</td>\n",
       "      <td>Brazil</td>\n",
       "      <td>BRA</td>\n",
       "      <td>1976 Summer</td>\n",
       "      <td>1976</td>\n",
       "      <td>Summer</td>\n",
       "      <td>Montreal</td>\n",
       "      <td>Volleyball</td>\n",
       "      <td>Volleyball Men's Volleyball</td>\n",
       "      <td>NaN</td>\n",
       "    </tr>\n",
       "    <tr>\n",
       "      <th>668</th>\n",
       "      <td>388</td>\n",
       "      <td>Abel Carlos da Silva Braga</td>\n",
       "      <td>M</td>\n",
       "      <td>19.0</td>\n",
       "      <td>190.0</td>\n",
       "      <td>73.0</td>\n",
       "      <td>Brazil</td>\n",
       "      <td>BRA</td>\n",
       "      <td>1972 Summer</td>\n",
       "      <td>1972</td>\n",
       "      <td>Summer</td>\n",
       "      <td>Munich</td>\n",
       "      <td>Football</td>\n",
       "      <td>Football Men's Football</td>\n",
       "      <td>NaN</td>\n",
       "    </tr>\n",
       "    <tr>\n",
       "      <th>781</th>\n",
       "      <td>451</td>\n",
       "      <td>Diana Monteiro Abla</td>\n",
       "      <td>F</td>\n",
       "      <td>21.0</td>\n",
       "      <td>175.0</td>\n",
       "      <td>75.0</td>\n",
       "      <td>Brazil</td>\n",
       "      <td>BRA</td>\n",
       "      <td>2016 Summer</td>\n",
       "      <td>2016</td>\n",
       "      <td>Summer</td>\n",
       "      <td>Rio de Janeiro</td>\n",
       "      <td>Water Polo</td>\n",
       "      <td>Water Polo Women's Water Polo</td>\n",
       "      <td>NaN</td>\n",
       "    </tr>\n",
       "    <tr>\n",
       "      <th>1005</th>\n",
       "      <td>565</td>\n",
       "      <td>Glauclio Serro Abreu</td>\n",
       "      <td>M</td>\n",
       "      <td>26.0</td>\n",
       "      <td>185.0</td>\n",
       "      <td>75.0</td>\n",
       "      <td>Brazil</td>\n",
       "      <td>BRA</td>\n",
       "      <td>2004 Summer</td>\n",
       "      <td>2004</td>\n",
       "      <td>Summer</td>\n",
       "      <td>Athina</td>\n",
       "      <td>Boxing</td>\n",
       "      <td>Boxing Men's Middleweight</td>\n",
       "      <td>NaN</td>\n",
       "    </tr>\n",
       "  </tbody>\n",
       "</table>\n",
       "</div>"
      ],
      "text/plain": [
       "       ID                        Name Sex   Age  Height  Weight    Team  NOC  \\\n",
       "665   386             Alexandre Abeid   M  22.0   194.0    92.0  Brazil  BRA   \n",
       "666   386             Alexandre Abeid   M  26.0   194.0    92.0  Brazil  BRA   \n",
       "668   388  Abel Carlos da Silva Braga   M  19.0   190.0    73.0  Brazil  BRA   \n",
       "781   451         Diana Monteiro Abla   F  21.0   175.0    75.0  Brazil  BRA   \n",
       "1005  565        Glauclio Serro Abreu   M  26.0   185.0    75.0  Brazil  BRA   \n",
       "\n",
       "            Games  Year  Season            City       Sport  \\\n",
       "665   1972 Summer  1972  Summer          Munich  Volleyball   \n",
       "666   1976 Summer  1976  Summer        Montreal  Volleyball   \n",
       "668   1972 Summer  1972  Summer          Munich    Football   \n",
       "781   2016 Summer  2016  Summer  Rio de Janeiro  Water Polo   \n",
       "1005  2004 Summer  2004  Summer          Athina      Boxing   \n",
       "\n",
       "                              Event Medal  \n",
       "665     Volleyball Men's Volleyball   NaN  \n",
       "666     Volleyball Men's Volleyball   NaN  \n",
       "668         Football Men's Football   NaN  \n",
       "781   Water Polo Women's Water Polo   NaN  \n",
       "1005      Boxing Men's Middleweight   NaN  "
      ]
     },
     "execution_count": 5,
     "metadata": {},
     "output_type": "execute_result"
    }
   ],
   "source": [
    "df = pd.read_csv('../data/athlete_events.csv')\n",
    "\n",
    "df_brazil = df.loc[df['Team'] == 'Brazil']\n",
    "\n",
    "df_brazil.head()"
   ]
  },
  {
   "cell_type": "markdown",
   "metadata": {
    "id": "79xrCVYh5SGe"
   },
   "source": [
    "### Medalhistas\n",
    "\n",
    "Vamos focar um pouco nos casos de sucesso do Brasil. Use o seu DataFrame anterior para filtrar apenas informações sobre **medalhistas** brasileiros. \n",
    "\n",
    "**DICA:** observe como a coluna ```Medal``` é representada quando o atleta não ganhou medalha."
   ]
  },
  {
   "cell_type": "code",
   "execution_count": 6,
   "metadata": {
    "id": "9tlxQQja5SGf"
   },
   "outputs": [
    {
     "data": {
      "text/html": [
       "<div>\n",
       "<style scoped>\n",
       "    .dataframe tbody tr th:only-of-type {\n",
       "        vertical-align: middle;\n",
       "    }\n",
       "\n",
       "    .dataframe tbody tr th {\n",
       "        vertical-align: top;\n",
       "    }\n",
       "\n",
       "    .dataframe thead th {\n",
       "        text-align: right;\n",
       "    }\n",
       "</style>\n",
       "<table border=\"1\" class=\"dataframe\">\n",
       "  <thead>\n",
       "    <tr style=\"text-align: right;\">\n",
       "      <th></th>\n",
       "      <th>ID</th>\n",
       "      <th>Name</th>\n",
       "      <th>Sex</th>\n",
       "      <th>Age</th>\n",
       "      <th>Height</th>\n",
       "      <th>Weight</th>\n",
       "      <th>Team</th>\n",
       "      <th>NOC</th>\n",
       "      <th>Games</th>\n",
       "      <th>Year</th>\n",
       "      <th>Season</th>\n",
       "      <th>City</th>\n",
       "      <th>Sport</th>\n",
       "      <th>Event</th>\n",
       "      <th>Medal</th>\n",
       "    </tr>\n",
       "  </thead>\n",
       "  <tbody>\n",
       "    <tr>\n",
       "      <th>1651</th>\n",
       "      <td>918</td>\n",
       "      <td>Ademir Roque Kaefer</td>\n",
       "      <td>M</td>\n",
       "      <td>24.0</td>\n",
       "      <td>179.0</td>\n",
       "      <td>74.0</td>\n",
       "      <td>Brazil</td>\n",
       "      <td>BRA</td>\n",
       "      <td>1984 Summer</td>\n",
       "      <td>1984</td>\n",
       "      <td>Summer</td>\n",
       "      <td>Los Angeles</td>\n",
       "      <td>Football</td>\n",
       "      <td>Football Men's Football</td>\n",
       "      <td>Silver</td>\n",
       "    </tr>\n",
       "    <tr>\n",
       "      <th>1652</th>\n",
       "      <td>918</td>\n",
       "      <td>Ademir Roque Kaefer</td>\n",
       "      <td>M</td>\n",
       "      <td>28.0</td>\n",
       "      <td>179.0</td>\n",
       "      <td>74.0</td>\n",
       "      <td>Brazil</td>\n",
       "      <td>BRA</td>\n",
       "      <td>1988 Summer</td>\n",
       "      <td>1988</td>\n",
       "      <td>Summer</td>\n",
       "      <td>Seoul</td>\n",
       "      <td>Football</td>\n",
       "      <td>Football Men's Football</td>\n",
       "      <td>Silver</td>\n",
       "    </tr>\n",
       "    <tr>\n",
       "      <th>1668</th>\n",
       "      <td>925</td>\n",
       "      <td>Adenzia Aparecida Ferreira da Silva</td>\n",
       "      <td>F</td>\n",
       "      <td>25.0</td>\n",
       "      <td>187.0</td>\n",
       "      <td>65.0</td>\n",
       "      <td>Brazil</td>\n",
       "      <td>BRA</td>\n",
       "      <td>2012 Summer</td>\n",
       "      <td>2012</td>\n",
       "      <td>Summer</td>\n",
       "      <td>London</td>\n",
       "      <td>Volleyball</td>\n",
       "      <td>Volleyball Women's Volleyball</td>\n",
       "      <td>Gold</td>\n",
       "    </tr>\n",
       "    <tr>\n",
       "      <th>1733</th>\n",
       "      <td>966</td>\n",
       "      <td>Daniel Adler</td>\n",
       "      <td>M</td>\n",
       "      <td>26.0</td>\n",
       "      <td>180.0</td>\n",
       "      <td>72.0</td>\n",
       "      <td>Brazil</td>\n",
       "      <td>BRA</td>\n",
       "      <td>1984 Summer</td>\n",
       "      <td>1984</td>\n",
       "      <td>Summer</td>\n",
       "      <td>Los Angeles</td>\n",
       "      <td>Sailing</td>\n",
       "      <td>Sailing Mixed Three Person Keelboat</td>\n",
       "      <td>Silver</td>\n",
       "    </tr>\n",
       "    <tr>\n",
       "      <th>1856</th>\n",
       "      <td>1020</td>\n",
       "      <td>Adriana Aparecida dos Santos</td>\n",
       "      <td>F</td>\n",
       "      <td>25.0</td>\n",
       "      <td>180.0</td>\n",
       "      <td>61.0</td>\n",
       "      <td>Brazil</td>\n",
       "      <td>BRA</td>\n",
       "      <td>1996 Summer</td>\n",
       "      <td>1996</td>\n",
       "      <td>Summer</td>\n",
       "      <td>Atlanta</td>\n",
       "      <td>Basketball</td>\n",
       "      <td>Basketball Women's Basketball</td>\n",
       "      <td>Silver</td>\n",
       "    </tr>\n",
       "  </tbody>\n",
       "</table>\n",
       "</div>"
      ],
      "text/plain": [
       "        ID                                 Name Sex   Age  Height  Weight  \\\n",
       "1651   918                  Ademir Roque Kaefer   M  24.0   179.0    74.0   \n",
       "1652   918                  Ademir Roque Kaefer   M  28.0   179.0    74.0   \n",
       "1668   925  Adenzia Aparecida Ferreira da Silva   F  25.0   187.0    65.0   \n",
       "1733   966                         Daniel Adler   M  26.0   180.0    72.0   \n",
       "1856  1020         Adriana Aparecida dos Santos   F  25.0   180.0    61.0   \n",
       "\n",
       "        Team  NOC        Games  Year  Season         City       Sport  \\\n",
       "1651  Brazil  BRA  1984 Summer  1984  Summer  Los Angeles    Football   \n",
       "1652  Brazil  BRA  1988 Summer  1988  Summer        Seoul    Football   \n",
       "1668  Brazil  BRA  2012 Summer  2012  Summer       London  Volleyball   \n",
       "1733  Brazil  BRA  1984 Summer  1984  Summer  Los Angeles     Sailing   \n",
       "1856  Brazil  BRA  1996 Summer  1996  Summer      Atlanta  Basketball   \n",
       "\n",
       "                                    Event   Medal  \n",
       "1651              Football Men's Football  Silver  \n",
       "1652              Football Men's Football  Silver  \n",
       "1668        Volleyball Women's Volleyball    Gold  \n",
       "1733  Sailing Mixed Three Person Keelboat  Silver  \n",
       "1856        Basketball Women's Basketball  Silver  "
      ]
     },
     "execution_count": 6,
     "metadata": {},
     "output_type": "execute_result"
    }
   ],
   "source": [
    "df_brazil_with_medals = df_brazil.dropna(subset = ['Medal'])\n",
    "\n",
    "df_brazil_with_medals.head()"
   ]
  },
  {
   "cell_type": "markdown",
   "metadata": {
    "id": "oAJtYJZA5SGf"
   },
   "source": [
    "### Verão vs Inverno\n",
    "\n",
    "Você deve ter notado que temos duas categorias distintas de jogos olímpicos, representados pela estação: temos os jogos de verão e os jogos de inverno, que ocorrem de maneira intercalada.\n",
    "\n",
    "Agora que já conhecemos os medalhistas brasileiros, resposta: quantos atletas brasileiros receberam medalha nos jogos de verão e quantos receberam nos jogos de inverno?"
   ]
  },
  {
   "cell_type": "code",
   "execution_count": 7,
   "metadata": {
    "id": "AHMm4ROR5SGg"
   },
   "outputs": [
    {
     "data": {
      "text/plain": [
       "Season\n",
       "Summer    449\n",
       "dtype: int64"
      ]
     },
     "execution_count": 7,
     "metadata": {},
     "output_type": "execute_result"
    }
   ],
   "source": [
    "df_brazil_with_medals.groupby(['Season']).size()"
   ]
  },
  {
   "cell_type": "markdown",
   "metadata": {
    "id": "yCbiBGUR5SGg"
   },
   "source": [
    "Os jogos de verão são bem mais populares do que os jogos de inverno no Brasil. Portanto, deste ponto em diante iremos focar apenas nos jogos de verão. Descarte de seu DataFrame os dados dos jogos de inverno.\n",
    "\n"
   ]
  },
  {
   "cell_type": "code",
   "execution_count": 8,
   "metadata": {
    "id": "SiJvANPT5SGh"
   },
   "outputs": [
    {
     "data": {
      "text/html": [
       "<div>\n",
       "<style scoped>\n",
       "    .dataframe tbody tr th:only-of-type {\n",
       "        vertical-align: middle;\n",
       "    }\n",
       "\n",
       "    .dataframe tbody tr th {\n",
       "        vertical-align: top;\n",
       "    }\n",
       "\n",
       "    .dataframe thead th {\n",
       "        text-align: right;\n",
       "    }\n",
       "</style>\n",
       "<table border=\"1\" class=\"dataframe\">\n",
       "  <thead>\n",
       "    <tr style=\"text-align: right;\">\n",
       "      <th></th>\n",
       "      <th>ID</th>\n",
       "      <th>Name</th>\n",
       "      <th>Sex</th>\n",
       "      <th>Age</th>\n",
       "      <th>Height</th>\n",
       "      <th>Weight</th>\n",
       "      <th>Team</th>\n",
       "      <th>NOC</th>\n",
       "      <th>Games</th>\n",
       "      <th>Year</th>\n",
       "      <th>Season</th>\n",
       "      <th>City</th>\n",
       "      <th>Sport</th>\n",
       "      <th>Event</th>\n",
       "      <th>Medal</th>\n",
       "    </tr>\n",
       "  </thead>\n",
       "  <tbody>\n",
       "    <tr>\n",
       "      <th>1651</th>\n",
       "      <td>918</td>\n",
       "      <td>Ademir Roque Kaefer</td>\n",
       "      <td>M</td>\n",
       "      <td>24.0</td>\n",
       "      <td>179.0</td>\n",
       "      <td>74.0</td>\n",
       "      <td>Brazil</td>\n",
       "      <td>BRA</td>\n",
       "      <td>1984 Summer</td>\n",
       "      <td>1984</td>\n",
       "      <td>Summer</td>\n",
       "      <td>Los Angeles</td>\n",
       "      <td>Football</td>\n",
       "      <td>Football Men's Football</td>\n",
       "      <td>Silver</td>\n",
       "    </tr>\n",
       "    <tr>\n",
       "      <th>1652</th>\n",
       "      <td>918</td>\n",
       "      <td>Ademir Roque Kaefer</td>\n",
       "      <td>M</td>\n",
       "      <td>28.0</td>\n",
       "      <td>179.0</td>\n",
       "      <td>74.0</td>\n",
       "      <td>Brazil</td>\n",
       "      <td>BRA</td>\n",
       "      <td>1988 Summer</td>\n",
       "      <td>1988</td>\n",
       "      <td>Summer</td>\n",
       "      <td>Seoul</td>\n",
       "      <td>Football</td>\n",
       "      <td>Football Men's Football</td>\n",
       "      <td>Silver</td>\n",
       "    </tr>\n",
       "    <tr>\n",
       "      <th>1668</th>\n",
       "      <td>925</td>\n",
       "      <td>Adenzia Aparecida Ferreira da Silva</td>\n",
       "      <td>F</td>\n",
       "      <td>25.0</td>\n",
       "      <td>187.0</td>\n",
       "      <td>65.0</td>\n",
       "      <td>Brazil</td>\n",
       "      <td>BRA</td>\n",
       "      <td>2012 Summer</td>\n",
       "      <td>2012</td>\n",
       "      <td>Summer</td>\n",
       "      <td>London</td>\n",
       "      <td>Volleyball</td>\n",
       "      <td>Volleyball Women's Volleyball</td>\n",
       "      <td>Gold</td>\n",
       "    </tr>\n",
       "    <tr>\n",
       "      <th>1733</th>\n",
       "      <td>966</td>\n",
       "      <td>Daniel Adler</td>\n",
       "      <td>M</td>\n",
       "      <td>26.0</td>\n",
       "      <td>180.0</td>\n",
       "      <td>72.0</td>\n",
       "      <td>Brazil</td>\n",
       "      <td>BRA</td>\n",
       "      <td>1984 Summer</td>\n",
       "      <td>1984</td>\n",
       "      <td>Summer</td>\n",
       "      <td>Los Angeles</td>\n",
       "      <td>Sailing</td>\n",
       "      <td>Sailing Mixed Three Person Keelboat</td>\n",
       "      <td>Silver</td>\n",
       "    </tr>\n",
       "    <tr>\n",
       "      <th>1856</th>\n",
       "      <td>1020</td>\n",
       "      <td>Adriana Aparecida dos Santos</td>\n",
       "      <td>F</td>\n",
       "      <td>25.0</td>\n",
       "      <td>180.0</td>\n",
       "      <td>61.0</td>\n",
       "      <td>Brazil</td>\n",
       "      <td>BRA</td>\n",
       "      <td>1996 Summer</td>\n",
       "      <td>1996</td>\n",
       "      <td>Summer</td>\n",
       "      <td>Atlanta</td>\n",
       "      <td>Basketball</td>\n",
       "      <td>Basketball Women's Basketball</td>\n",
       "      <td>Silver</td>\n",
       "    </tr>\n",
       "  </tbody>\n",
       "</table>\n",
       "</div>"
      ],
      "text/plain": [
       "        ID                                 Name Sex   Age  Height  Weight  \\\n",
       "1651   918                  Ademir Roque Kaefer   M  24.0   179.0    74.0   \n",
       "1652   918                  Ademir Roque Kaefer   M  28.0   179.0    74.0   \n",
       "1668   925  Adenzia Aparecida Ferreira da Silva   F  25.0   187.0    65.0   \n",
       "1733   966                         Daniel Adler   M  26.0   180.0    72.0   \n",
       "1856  1020         Adriana Aparecida dos Santos   F  25.0   180.0    61.0   \n",
       "\n",
       "        Team  NOC        Games  Year  Season         City       Sport  \\\n",
       "1651  Brazil  BRA  1984 Summer  1984  Summer  Los Angeles    Football   \n",
       "1652  Brazil  BRA  1988 Summer  1988  Summer        Seoul    Football   \n",
       "1668  Brazil  BRA  2012 Summer  2012  Summer       London  Volleyball   \n",
       "1733  Brazil  BRA  1984 Summer  1984  Summer  Los Angeles     Sailing   \n",
       "1856  Brazil  BRA  1996 Summer  1996  Summer      Atlanta  Basketball   \n",
       "\n",
       "                                    Event   Medal  \n",
       "1651              Football Men's Football  Silver  \n",
       "1652              Football Men's Football  Silver  \n",
       "1668        Volleyball Women's Volleyball    Gold  \n",
       "1733  Sailing Mixed Three Person Keelboat  Silver  \n",
       "1856        Basketball Women's Basketball  Silver  "
      ]
     },
     "execution_count": 8,
     "metadata": {},
     "output_type": "execute_result"
    }
   ],
   "source": [
    "df_brazil_with_medals_summer = df_brazil_with_medals.loc[df_brazil_with_medals['Season'] == 'Summer']\n",
    "\n",
    "df_brazil_with_medals_summer.head()"
   ]
  },
  {
   "cell_type": "markdown",
   "metadata": {
    "id": "6eW-D6eC5SGi"
   },
   "source": [
    "### Atletas do Brasil\n",
    "\n",
    "Vamos conhecer um pouco melhor nossos atletas. Descubra a altura e peso médio de nossos medalhistas."
   ]
  },
  {
   "cell_type": "markdown",
   "metadata": {
    "id": "IDq-M0-f5SGi"
   },
   "source": [
    "Imaginamos que diferentes esportes podem beneficiar diferentes tipos físicos, certo? Então refaça a análise anterior, mas obtendo os valores médios **por esporte**."
   ]
  },
  {
   "cell_type": "code",
   "execution_count": 9,
   "metadata": {
    "id": "FM32ADb-5SGj"
   },
   "outputs": [
    {
     "name": "stdout",
     "output_type": "stream",
     "text": [
      "Altura media: 182.36 cm\n",
      "Peso medio: 76.62 Kg\n"
     ]
    }
   ],
   "source": [
    "print(f'Altura media: {round(df_brazil_with_medals_summer[\"Height\"].mean(), 2)} cm')\n",
    "print(f'Peso medio: {round(df_brazil_with_medals_summer[\"Weight\"].mean(), 2)} Kg')"
   ]
  },
  {
   "cell_type": "code",
   "execution_count": 10,
   "metadata": {},
   "outputs": [
    {
     "name": "stdout",
     "output_type": "stream",
     "text": [
      "Altura media por esporte:\n",
      " Sport\n",
      "Athletics            181.00\n",
      "Basketball           185.61\n",
      "Boxing               170.00\n",
      "Canoeing             175.00\n",
      "Equestrianism        179.67\n",
      "Football             175.80\n",
      "Gymnastics           162.75\n",
      "Judo                 176.67\n",
      "Modern Pentathlon    166.00\n",
      "Sailing              181.59\n",
      "Shooting             175.00\n",
      "Swimming             189.11\n",
      "Taekwondo            184.00\n",
      "Volleyball           190.59\n",
      "Name: Height, dtype: float64\n"
     ]
    }
   ],
   "source": [
    "df_brazil_with_medals_summer_groupby_sport_height = round(df_brazil_with_medals_summer.groupby([\"Sport\"])[\"Height\"].mean(), 2)\n",
    "\n",
    "print(f'Altura media por esporte:\\n {df_brazil_with_medals_summer_groupby_sport_height}')"
   ]
  },
  {
   "cell_type": "code",
   "execution_count": 11,
   "metadata": {},
   "outputs": [
    {
     "name": "stdout",
     "output_type": "stream",
     "text": [
      "Peso medio por esporte:\n",
      " Sport\n",
      "Athletics            74.58\n",
      "Basketball           78.48\n",
      "Boxing               64.00\n",
      "Canoeing             83.25\n",
      "Equestrianism        75.00\n",
      "Football             69.96\n",
      "Gymnastics           63.75\n",
      "Judo                 86.29\n",
      "Modern Pentathlon    55.00\n",
      "Sailing              80.41\n",
      "Shooting             69.00\n",
      "Swimming             81.56\n",
      "Taekwondo            79.50\n",
      "Volleyball           81.17\n",
      "Name: Weight, dtype: float64\n"
     ]
    }
   ],
   "source": [
    "df_brazil_with_medals_summer_groupby_sport_weight = round(df_brazil_with_medals_summer.groupby([\"Sport\"])[\"Weight\"].mean(), 2)\n",
    "\n",
    "print(f'Peso medio por esporte:\\n {df_brazil_with_medals_summer_groupby_sport_weight}')"
   ]
  },
  {
   "cell_type": "markdown",
   "metadata": {
    "id": "cOUVrKel5SGj"
   },
   "source": [
    "Será que os dados acima influenciaram no interesse geral dos atletas pelo esporte ou realmente impactaram no desempenho deles? Podemos tentar descobrir se há algum tipo de correlação.\n",
    "\n",
    "Você ainda possui o dataframe original contendo todos os atletas brasileiros, incluindo os sem medalha? Obtenha os valores médios de peso e altura por esporte daquele dataframe e compare-o com os dos medalhistas. Há alguma diferença significativa em algum esporte?"
   ]
  },
  {
   "cell_type": "code",
   "execution_count": 12,
   "metadata": {
    "id": "_fvqJvEd5SGk"
   },
   "outputs": [
    {
     "data": {
      "text/html": [
       "<div>\n",
       "<style scoped>\n",
       "    .dataframe tbody tr th:only-of-type {\n",
       "        vertical-align: middle;\n",
       "    }\n",
       "\n",
       "    .dataframe tbody tr th {\n",
       "        vertical-align: top;\n",
       "    }\n",
       "\n",
       "    .dataframe thead th {\n",
       "        text-align: right;\n",
       "    }\n",
       "</style>\n",
       "<table border=\"1\" class=\"dataframe\">\n",
       "  <thead>\n",
       "    <tr style=\"text-align: right;\">\n",
       "      <th></th>\n",
       "      <th>With Medals</th>\n",
       "      <th>Without Medals</th>\n",
       "    </tr>\n",
       "    <tr>\n",
       "      <th>Sport</th>\n",
       "      <th></th>\n",
       "      <th></th>\n",
       "    </tr>\n",
       "  </thead>\n",
       "  <tbody>\n",
       "    <tr>\n",
       "      <th>Archery</th>\n",
       "      <td>NaN</td>\n",
       "      <td>71.70</td>\n",
       "    </tr>\n",
       "    <tr>\n",
       "      <th>Art Competitions</th>\n",
       "      <td>NaN</td>\n",
       "      <td>NaN</td>\n",
       "    </tr>\n",
       "    <tr>\n",
       "      <th>Athletics</th>\n",
       "      <td>74.58</td>\n",
       "      <td>67.80</td>\n",
       "    </tr>\n",
       "    <tr>\n",
       "      <th>Badminton</th>\n",
       "      <td>NaN</td>\n",
       "      <td>74.00</td>\n",
       "    </tr>\n",
       "    <tr>\n",
       "      <th>Basketball</th>\n",
       "      <td>78.48</td>\n",
       "      <td>85.90</td>\n",
       "    </tr>\n",
       "    <tr>\n",
       "      <th>Boxing</th>\n",
       "      <td>64.00</td>\n",
       "      <td>64.11</td>\n",
       "    </tr>\n",
       "    <tr>\n",
       "      <th>Canoeing</th>\n",
       "      <td>83.25</td>\n",
       "      <td>77.40</td>\n",
       "    </tr>\n",
       "    <tr>\n",
       "      <th>Cycling</th>\n",
       "      <td>NaN</td>\n",
       "      <td>66.87</td>\n",
       "    </tr>\n",
       "    <tr>\n",
       "      <th>Diving</th>\n",
       "      <td>NaN</td>\n",
       "      <td>64.97</td>\n",
       "    </tr>\n",
       "    <tr>\n",
       "      <th>Equestrianism</th>\n",
       "      <td>75.00</td>\n",
       "      <td>72.31</td>\n",
       "    </tr>\n",
       "    <tr>\n",
       "      <th>Fencing</th>\n",
       "      <td>NaN</td>\n",
       "      <td>73.36</td>\n",
       "    </tr>\n",
       "    <tr>\n",
       "      <th>Football</th>\n",
       "      <td>69.96</td>\n",
       "      <td>67.76</td>\n",
       "    </tr>\n",
       "    <tr>\n",
       "      <th>Golf</th>\n",
       "      <td>NaN</td>\n",
       "      <td>62.00</td>\n",
       "    </tr>\n",
       "    <tr>\n",
       "      <th>Gymnastics</th>\n",
       "      <td>63.75</td>\n",
       "      <td>52.46</td>\n",
       "    </tr>\n",
       "    <tr>\n",
       "      <th>Handball</th>\n",
       "      <td>NaN</td>\n",
       "      <td>80.77</td>\n",
       "    </tr>\n",
       "    <tr>\n",
       "      <th>Hockey</th>\n",
       "      <td>NaN</td>\n",
       "      <td>76.12</td>\n",
       "    </tr>\n",
       "    <tr>\n",
       "      <th>Judo</th>\n",
       "      <td>86.29</td>\n",
       "      <td>80.29</td>\n",
       "    </tr>\n",
       "    <tr>\n",
       "      <th>Modern Pentathlon</th>\n",
       "      <td>55.00</td>\n",
       "      <td>60.67</td>\n",
       "    </tr>\n",
       "    <tr>\n",
       "      <th>Rhythmic Gymnastics</th>\n",
       "      <td>NaN</td>\n",
       "      <td>48.16</td>\n",
       "    </tr>\n",
       "    <tr>\n",
       "      <th>Rowing</th>\n",
       "      <td>NaN</td>\n",
       "      <td>80.09</td>\n",
       "    </tr>\n",
       "    <tr>\n",
       "      <th>Rugby Sevens</th>\n",
       "      <td>NaN</td>\n",
       "      <td>72.88</td>\n",
       "    </tr>\n",
       "    <tr>\n",
       "      <th>Sailing</th>\n",
       "      <td>80.41</td>\n",
       "      <td>76.81</td>\n",
       "    </tr>\n",
       "    <tr>\n",
       "      <th>Shooting</th>\n",
       "      <td>69.00</td>\n",
       "      <td>76.92</td>\n",
       "    </tr>\n",
       "    <tr>\n",
       "      <th>Swimming</th>\n",
       "      <td>81.56</td>\n",
       "      <td>74.59</td>\n",
       "    </tr>\n",
       "    <tr>\n",
       "      <th>Synchronized Swimming</th>\n",
       "      <td>NaN</td>\n",
       "      <td>57.42</td>\n",
       "    </tr>\n",
       "    <tr>\n",
       "      <th>Table Tennis</th>\n",
       "      <td>NaN</td>\n",
       "      <td>64.18</td>\n",
       "    </tr>\n",
       "    <tr>\n",
       "      <th>Taekwondo</th>\n",
       "      <td>79.50</td>\n",
       "      <td>63.62</td>\n",
       "    </tr>\n",
       "    <tr>\n",
       "      <th>Tennis</th>\n",
       "      <td>NaN</td>\n",
       "      <td>72.22</td>\n",
       "    </tr>\n",
       "    <tr>\n",
       "      <th>Trampolining</th>\n",
       "      <td>NaN</td>\n",
       "      <td>58.00</td>\n",
       "    </tr>\n",
       "    <tr>\n",
       "      <th>Triathlon</th>\n",
       "      <td>NaN</td>\n",
       "      <td>64.40</td>\n",
       "    </tr>\n",
       "    <tr>\n",
       "      <th>Volleyball</th>\n",
       "      <td>81.17</td>\n",
       "      <td>78.85</td>\n",
       "    </tr>\n",
       "    <tr>\n",
       "      <th>Water Polo</th>\n",
       "      <td>NaN</td>\n",
       "      <td>81.47</td>\n",
       "    </tr>\n",
       "    <tr>\n",
       "      <th>Weightlifting</th>\n",
       "      <td>NaN</td>\n",
       "      <td>85.64</td>\n",
       "    </tr>\n",
       "    <tr>\n",
       "      <th>Wrestling</th>\n",
       "      <td>NaN</td>\n",
       "      <td>83.15</td>\n",
       "    </tr>\n",
       "  </tbody>\n",
       "</table>\n",
       "</div>"
      ],
      "text/plain": [
       "                       With Medals  Without Medals\n",
       "Sport                                             \n",
       "Archery                        NaN           71.70\n",
       "Art Competitions               NaN             NaN\n",
       "Athletics                    74.58           67.80\n",
       "Badminton                      NaN           74.00\n",
       "Basketball                   78.48           85.90\n",
       "Boxing                       64.00           64.11\n",
       "Canoeing                     83.25           77.40\n",
       "Cycling                        NaN           66.87\n",
       "Diving                         NaN           64.97\n",
       "Equestrianism                75.00           72.31\n",
       "Fencing                        NaN           73.36\n",
       "Football                     69.96           67.76\n",
       "Golf                           NaN           62.00\n",
       "Gymnastics                   63.75           52.46\n",
       "Handball                       NaN           80.77\n",
       "Hockey                         NaN           76.12\n",
       "Judo                         86.29           80.29\n",
       "Modern Pentathlon            55.00           60.67\n",
       "Rhythmic Gymnastics            NaN           48.16\n",
       "Rowing                         NaN           80.09\n",
       "Rugby Sevens                   NaN           72.88\n",
       "Sailing                      80.41           76.81\n",
       "Shooting                     69.00           76.92\n",
       "Swimming                     81.56           74.59\n",
       "Synchronized Swimming          NaN           57.42\n",
       "Table Tennis                   NaN           64.18\n",
       "Taekwondo                    79.50           63.62\n",
       "Tennis                         NaN           72.22\n",
       "Trampolining                   NaN           58.00\n",
       "Triathlon                      NaN           64.40\n",
       "Volleyball                   81.17           78.85\n",
       "Water Polo                     NaN           81.47\n",
       "Weightlifting                  NaN           85.64\n",
       "Wrestling                      NaN           83.15"
      ]
     },
     "execution_count": 12,
     "metadata": {},
     "output_type": "execute_result"
    }
   ],
   "source": [
    "df_brazil_summer = df_brazil.loc[df_brazil['Season'] == 'Summer']\n",
    "\n",
    "df_brazil_summer_groupby_sport_weight = round(df_brazil_summer.groupby([\"Sport\"])[\"Weight\"].mean(), 2)\n",
    "\n",
    "series = {\n",
    "    'With Medals': df_brazil_with_medals_summer_groupby_sport_weight,\n",
    "    'Without Medals': df_brazil_summer_groupby_sport_weight\n",
    "}\n",
    "\n",
    "pd.DataFrame(series)"
   ]
  },
  {
   "cell_type": "code",
   "execution_count": 13,
   "metadata": {},
   "outputs": [
    {
     "data": {
      "text/html": [
       "<div>\n",
       "<style scoped>\n",
       "    .dataframe tbody tr th:only-of-type {\n",
       "        vertical-align: middle;\n",
       "    }\n",
       "\n",
       "    .dataframe tbody tr th {\n",
       "        vertical-align: top;\n",
       "    }\n",
       "\n",
       "    .dataframe thead th {\n",
       "        text-align: right;\n",
       "    }\n",
       "</style>\n",
       "<table border=\"1\" class=\"dataframe\">\n",
       "  <thead>\n",
       "    <tr style=\"text-align: right;\">\n",
       "      <th></th>\n",
       "      <th>With Medals</th>\n",
       "      <th>Without Medals</th>\n",
       "    </tr>\n",
       "    <tr>\n",
       "      <th>Sport</th>\n",
       "      <th></th>\n",
       "      <th></th>\n",
       "    </tr>\n",
       "  </thead>\n",
       "  <tbody>\n",
       "    <tr>\n",
       "      <th>Archery</th>\n",
       "      <td>NaN</td>\n",
       "      <td>172.60</td>\n",
       "    </tr>\n",
       "    <tr>\n",
       "      <th>Art Competitions</th>\n",
       "      <td>NaN</td>\n",
       "      <td>NaN</td>\n",
       "    </tr>\n",
       "    <tr>\n",
       "      <th>Athletics</th>\n",
       "      <td>181.00</td>\n",
       "      <td>176.20</td>\n",
       "    </tr>\n",
       "    <tr>\n",
       "      <th>Badminton</th>\n",
       "      <td>NaN</td>\n",
       "      <td>175.50</td>\n",
       "    </tr>\n",
       "    <tr>\n",
       "      <th>Basketball</th>\n",
       "      <td>185.61</td>\n",
       "      <td>190.91</td>\n",
       "    </tr>\n",
       "    <tr>\n",
       "      <th>Boxing</th>\n",
       "      <td>170.00</td>\n",
       "      <td>171.99</td>\n",
       "    </tr>\n",
       "    <tr>\n",
       "      <th>Canoeing</th>\n",
       "      <td>175.00</td>\n",
       "      <td>177.79</td>\n",
       "    </tr>\n",
       "    <tr>\n",
       "      <th>Cycling</th>\n",
       "      <td>NaN</td>\n",
       "      <td>174.24</td>\n",
       "    </tr>\n",
       "    <tr>\n",
       "      <th>Diving</th>\n",
       "      <td>NaN</td>\n",
       "      <td>167.44</td>\n",
       "    </tr>\n",
       "    <tr>\n",
       "      <th>Equestrianism</th>\n",
       "      <td>179.67</td>\n",
       "      <td>177.43</td>\n",
       "    </tr>\n",
       "    <tr>\n",
       "      <th>Fencing</th>\n",
       "      <td>NaN</td>\n",
       "      <td>179.20</td>\n",
       "    </tr>\n",
       "    <tr>\n",
       "      <th>Football</th>\n",
       "      <td>175.80</td>\n",
       "      <td>173.37</td>\n",
       "    </tr>\n",
       "    <tr>\n",
       "      <th>Golf</th>\n",
       "      <td>NaN</td>\n",
       "      <td>170.00</td>\n",
       "    </tr>\n",
       "    <tr>\n",
       "      <th>Gymnastics</th>\n",
       "      <td>162.75</td>\n",
       "      <td>157.27</td>\n",
       "    </tr>\n",
       "    <tr>\n",
       "      <th>Handball</th>\n",
       "      <td>NaN</td>\n",
       "      <td>181.47</td>\n",
       "    </tr>\n",
       "    <tr>\n",
       "      <th>Hockey</th>\n",
       "      <td>NaN</td>\n",
       "      <td>177.44</td>\n",
       "    </tr>\n",
       "    <tr>\n",
       "      <th>Judo</th>\n",
       "      <td>176.67</td>\n",
       "      <td>173.93</td>\n",
       "    </tr>\n",
       "    <tr>\n",
       "      <th>Modern Pentathlon</th>\n",
       "      <td>166.00</td>\n",
       "      <td>168.60</td>\n",
       "    </tr>\n",
       "    <tr>\n",
       "      <th>Rhythmic Gymnastics</th>\n",
       "      <td>NaN</td>\n",
       "      <td>164.16</td>\n",
       "    </tr>\n",
       "    <tr>\n",
       "      <th>Rowing</th>\n",
       "      <td>NaN</td>\n",
       "      <td>180.55</td>\n",
       "    </tr>\n",
       "    <tr>\n",
       "      <th>Rugby Sevens</th>\n",
       "      <td>NaN</td>\n",
       "      <td>171.24</td>\n",
       "    </tr>\n",
       "    <tr>\n",
       "      <th>Sailing</th>\n",
       "      <td>181.59</td>\n",
       "      <td>179.59</td>\n",
       "    </tr>\n",
       "    <tr>\n",
       "      <th>Shooting</th>\n",
       "      <td>175.00</td>\n",
       "      <td>174.04</td>\n",
       "    </tr>\n",
       "    <tr>\n",
       "      <th>Swimming</th>\n",
       "      <td>189.11</td>\n",
       "      <td>181.18</td>\n",
       "    </tr>\n",
       "    <tr>\n",
       "      <th>Synchronized Swimming</th>\n",
       "      <td>NaN</td>\n",
       "      <td>168.46</td>\n",
       "    </tr>\n",
       "    <tr>\n",
       "      <th>Table Tennis</th>\n",
       "      <td>NaN</td>\n",
       "      <td>169.73</td>\n",
       "    </tr>\n",
       "    <tr>\n",
       "      <th>Taekwondo</th>\n",
       "      <td>184.00</td>\n",
       "      <td>173.77</td>\n",
       "    </tr>\n",
       "    <tr>\n",
       "      <th>Tennis</th>\n",
       "      <td>NaN</td>\n",
       "      <td>182.62</td>\n",
       "    </tr>\n",
       "    <tr>\n",
       "      <th>Trampolining</th>\n",
       "      <td>NaN</td>\n",
       "      <td>168.00</td>\n",
       "    </tr>\n",
       "    <tr>\n",
       "      <th>Triathlon</th>\n",
       "      <td>NaN</td>\n",
       "      <td>175.80</td>\n",
       "    </tr>\n",
       "    <tr>\n",
       "      <th>Volleyball</th>\n",
       "      <td>190.59</td>\n",
       "      <td>187.76</td>\n",
       "    </tr>\n",
       "    <tr>\n",
       "      <th>Water Polo</th>\n",
       "      <td>NaN</td>\n",
       "      <td>179.89</td>\n",
       "    </tr>\n",
       "    <tr>\n",
       "      <th>Weightlifting</th>\n",
       "      <td>NaN</td>\n",
       "      <td>169.91</td>\n",
       "    </tr>\n",
       "    <tr>\n",
       "      <th>Wrestling</th>\n",
       "      <td>NaN</td>\n",
       "      <td>176.23</td>\n",
       "    </tr>\n",
       "  </tbody>\n",
       "</table>\n",
       "</div>"
      ],
      "text/plain": [
       "                       With Medals  Without Medals\n",
       "Sport                                             \n",
       "Archery                        NaN          172.60\n",
       "Art Competitions               NaN             NaN\n",
       "Athletics                   181.00          176.20\n",
       "Badminton                      NaN          175.50\n",
       "Basketball                  185.61          190.91\n",
       "Boxing                      170.00          171.99\n",
       "Canoeing                    175.00          177.79\n",
       "Cycling                        NaN          174.24\n",
       "Diving                         NaN          167.44\n",
       "Equestrianism               179.67          177.43\n",
       "Fencing                        NaN          179.20\n",
       "Football                    175.80          173.37\n",
       "Golf                           NaN          170.00\n",
       "Gymnastics                  162.75          157.27\n",
       "Handball                       NaN          181.47\n",
       "Hockey                         NaN          177.44\n",
       "Judo                        176.67          173.93\n",
       "Modern Pentathlon           166.00          168.60\n",
       "Rhythmic Gymnastics            NaN          164.16\n",
       "Rowing                         NaN          180.55\n",
       "Rugby Sevens                   NaN          171.24\n",
       "Sailing                     181.59          179.59\n",
       "Shooting                    175.00          174.04\n",
       "Swimming                    189.11          181.18\n",
       "Synchronized Swimming          NaN          168.46\n",
       "Table Tennis                   NaN          169.73\n",
       "Taekwondo                   184.00          173.77\n",
       "Tennis                         NaN          182.62\n",
       "Trampolining                   NaN          168.00\n",
       "Triathlon                      NaN          175.80\n",
       "Volleyball                  190.59          187.76\n",
       "Water Polo                     NaN          179.89\n",
       "Weightlifting                  NaN          169.91\n",
       "Wrestling                      NaN          176.23"
      ]
     },
     "execution_count": 13,
     "metadata": {},
     "output_type": "execute_result"
    }
   ],
   "source": [
    "df_brazil_summer = df_brazil.loc[df_brazil['Season'] == 'Summer']\n",
    "\n",
    "df_brazil_summer_groupby_sport_height = round(df_brazil_summer.groupby([\"Sport\"])[\"Height\"].mean(), 2)\n",
    "\n",
    "series = {\n",
    "    'With Medals': df_brazil_with_medals_summer_groupby_sport_height,\n",
    "    'Without Medals': df_brazil_summer_groupby_sport_height\n",
    "}\n",
    "\n",
    "pd.DataFrame(series)"
   ]
  },
  {
   "cell_type": "markdown",
   "metadata": {
    "id": "ZV7LBF9F5SGl"
   },
   "source": [
    "Existe um detalhe importante passando batido até agora em nossa análise: as categorias esportivas costumam ser divididas por gênero justamente por conta de diferenças físicas entre homens e mulheres que poderiam influenciar no desempenho. Compare a altura e peso médios de atletas brasileiros por esporte segmentado por sexo."
   ]
  },
  {
   "cell_type": "code",
   "execution_count": 14,
   "metadata": {
    "id": "qrFPqPGV5SGl"
   },
   "outputs": [
    {
     "data": {
      "text/plain": [
       "Sport             Sex\n",
       "Archery           F      162.86\n",
       "                  M      177.85\n",
       "Art Competitions  M         NaN\n",
       "Athletics         F      167.49\n",
       "                  M      180.07\n",
       "                          ...  \n",
       "Water Polo        M      181.42\n",
       "Weightlifting     F      161.50\n",
       "                  M      171.78\n",
       "Wrestling         F      169.33\n",
       "                  M      182.14\n",
       "Name: Height, Length: 63, dtype: float64"
      ]
     },
     "execution_count": 14,
     "metadata": {},
     "output_type": "execute_result"
    }
   ],
   "source": [
    "df_brazil_summer_groupby_sport_and_sex_height = round(df_brazil_summer.groupby([\"Sport\", \"Sex\"])[\"Height\"].mean(), 2)\n",
    "df_brazil_summer_groupby_sport_and_sex_height"
   ]
  },
  {
   "cell_type": "code",
   "execution_count": 15,
   "metadata": {},
   "outputs": [
    {
     "data": {
      "text/plain": [
       "Sport             Sex\n",
       "Archery           F      59.71\n",
       "                  M      78.15\n",
       "Art Competitions  M        NaN\n",
       "Athletics         F      59.81\n",
       "                  M      71.55\n",
       "                         ...  \n",
       "Water Polo        M      85.72\n",
       "Weightlifting     F      62.75\n",
       "                  M      90.00\n",
       "Wrestling         F      66.67\n",
       "                  M      97.29\n",
       "Name: Weight, Length: 63, dtype: float64"
      ]
     },
     "execution_count": 15,
     "metadata": {},
     "output_type": "execute_result"
    }
   ],
   "source": [
    "df_brazil_summer_groupby_sport_and_sex_weight = round(df_brazil_summer.groupby([\"Sport\", \"Sex\"])[\"Weight\"].mean(), 2)\n",
    "df_brazil_summer_groupby_sport_and_sex_weight"
   ]
  },
  {
   "cell_type": "markdown",
   "metadata": {
    "id": "Qkk5fmAU5SGl"
   },
   "source": [
    "Qual foi (ou quais foram) o maior medalhista brasileiro em quantidade total de medalhas?"
   ]
  },
  {
   "cell_type": "code",
   "execution_count": 16,
   "metadata": {
    "id": "HRmh1AV45SGm"
   },
   "outputs": [
    {
     "data": {
      "text/plain": [
       "Torben Schmidt Grael    5\n",
       "Robert Scheidt          5\n",
       "Name: Name, dtype: int64"
      ]
     },
     "execution_count": 16,
     "metadata": {},
     "output_type": "execute_result"
    }
   ],
   "source": [
    "df_brazil_with_medals['Name'].value_counts()[df_brazil_with_medals['Name'].value_counts() == df_brazil_with_medals['Name'].value_counts().max()]"
   ]
  },
  {
   "cell_type": "markdown",
   "metadata": {
    "id": "i9ywjI_-5SGm"
   },
   "source": [
    "E o(s) maior(es) em quantidade de medalhas de ouro?"
   ]
  },
  {
   "cell_type": "code",
   "execution_count": 17,
   "metadata": {
    "id": "Z9FCYvZK5SGn"
   },
   "outputs": [
    {
     "data": {
      "text/plain": [
       "Fabiana \"Fabi\" Alvim de Oliveira                      2\n",
       "Sheilla Tavares de Castro Blassioli                   2\n",
       "Marcelo Bastos Ferreira                               2\n",
       "Torben Schmidt Grael                                  2\n",
       "Giovane Farinazzo Gvio                                2\n",
       "Jaqueline Maria \"Jaque\" Pereira de Carvalho Endres    2\n",
       "Paula Renata Marques Pequeno                          2\n",
       "Fabiana Marcelino Claudino                            2\n",
       "Robert Scheidt                                        2\n",
       "Adhemar Ferreira da Silva                             2\n",
       "Thasa Daher de Menezes                                2\n",
       "Maurcio Camargo Lima                                  2\n",
       "Srgio \"Escadinha\" Dutra dos Santos                    2\n",
       "Name: Name, dtype: int64"
      ]
     },
     "execution_count": 17,
     "metadata": {},
     "output_type": "execute_result"
    }
   ],
   "source": [
    "df_brazil_with_medals_only_golds = df_brazil_with_medals[df_brazil_with_medals['Medal'] == 'Gold']\n",
    "\n",
    "df_brazil_with_medals_only_golds['Name'].value_counts()[df_brazil_with_medals_only_golds['Name'].value_counts() == df_brazil_with_medals_only_golds['Name'].value_counts().max()]"
   ]
  },
  {
   "cell_type": "markdown",
   "metadata": {
    "id": "YBvaASBO5SGn"
   },
   "source": [
    "Qual esporte rendeu mais medalhas de ouro para o Brasil? E qual rendeu mais medalhas no total?\n",
    "\n",
    "**DICA:** tome muito cuidado nessa análise: cada **evento esportivo** rende 1 medalha. Por exemplo, quando a equipe de futebol vence, isso é considerado 1 medalha, mesmo tendo cerca de 20 atletas medalhistas na equipe. "
   ]
  },
  {
   "cell_type": "code",
   "execution_count": 189,
   "metadata": {
    "id": "4J_pMD3z5SGn"
   },
   "outputs": [
    {
     "data": {
      "text/plain": [
       "'Judo'"
      ]
     },
     "execution_count": 189,
     "metadata": {},
     "output_type": "execute_result"
    }
   ],
   "source": [
    "## Tirar duvida\n",
    "\n",
    "df_brazil_with_medals_groupby_sport = df_brazil_with_medals.groupby(by=['Sport', 'Event', 'Year']).size()\n",
    "\n",
    "df_brazil_with_medals_groupby_sport_cumcount = df_brazil_with_medals_groupby_sport.groupby('Sport').cumcount() + 1\n",
    "\n",
    "df_brazil_with_medals_groupby_sport_cumcount.idxmax()[0]\n",
    "\n",
    "# max_sport = df_brazil_with_medals_groupby_sport_cumcount.max()\n",
    "\n",
    "\n",
    "# df_brazil_with_medals_groupby_sport_cumcount[df_brazil_with_medals_groupby_sport_cumcount == max_sport]\n",
    "# df_brazil_with_medals_groupby_sport['Volleyball'].groupby('Year').cumcount() + 1\n",
    "\n",
    "# df_brazil_with_medals_groupby_sport = df_brazil_with_medals_groupby_sport\n",
    "\n",
    "# df_brazil_with_medals_groupby_sport = df_brazil_with_medals_groupby_sport.sort_index(axis=0).groupby('Year').cumcount() + 1\n",
    "\n",
    "# df_brazil_with_medals_groupby_sport['Volleyball']\n",
    "# df_brazil_with_medals.groupby(['Sport', 'Event', 'Year'])['Medal'].value_counts()[df_brazil_with_medals.groupby(['Sport', 'Event', 'Year'])['Medal'].value_counts() == df_brazil_with_medals.groupby(['Sport', 'Event', 'Year'])['Medal'].value_counts().max()]\n",
    "\n",
    "#df_brazil_with_medals_only_golds['Name'].value_counts()[df_brazil_with_medals_only_golds['Name'].value_counts() == df_brazil_with_medals_only_golds['Name'].value_counts().max()]\n",
    "# df_brazil_with_medals"
   ]
  },
  {
   "cell_type": "markdown",
   "metadata": {
    "id": "IpTwJZor5SGo"
   },
   "source": [
    "Cada \"categoria\" dentro de um esporte é considerado um evento. Por exemplo, dentro de \"atletismo\", temos uma competição de 100m masculina, uma de 100m feminino, um revezamento 4 x 100m masculino, um revezamento 4 x 100m feminino, uma competição de 400m masculino, uma de 400m feminino, uma maratona masculina, uma maratona feminina, e assim sucessivamente.\n",
    "\n",
    "Sabendo disso, qual evento esportivo mais rendeu medalhas de ouro para o Brasil? E total de medalhas?"
   ]
  },
  {
   "cell_type": "code",
   "execution_count": 212,
   "metadata": {
    "id": "ebyQ65QO5SGo"
   },
   "outputs": [
    {
     "data": {
      "text/plain": [
       "[\"Athletics Men's Triple Jump\",\n",
       " \"Football Men's Football\",\n",
       " \"Volleyball Men's Volleyball\"]"
      ]
     },
     "execution_count": 212,
     "metadata": {},
     "output_type": "execute_result"
    }
   ],
   "source": [
    "df_brazil_with_medals_groupby_event_and_year = df_brazil_with_medals.groupby(by=['Event', 'Year']).size()\n",
    "\n",
    "df_brazil_with_medals_groupby_event_cumcount = df_brazil_with_medals_groupby_event_and_year.groupby('Event').cumcount() + 1\n",
    "\n",
    "# df_brazil_with_medals_groupby_event_cumcount.idxmax(0)\n",
    "max_event = df_brazil_with_medals_groupby_event_cumcount.max()\n",
    "\n",
    "max_events = df_brazil_with_medals_groupby_event_cumcount[df_brazil_with_medals_groupby_event_cumcount == max_event]\n",
    "\n",
    "max_events_names = [event_name[0] for event_name in max_events.index]\n",
    "\n",
    "max_events_names"
   ]
  },
  {
   "cell_type": "markdown",
   "metadata": {
    "id": "JfFreIuL5SGo"
   },
   "source": [
    "Para finalizar sobre o Brasil: obtenha o total de medalhas de ouro, prata, bronze e total por ano."
   ]
  },
  {
   "cell_type": "code",
   "execution_count": null,
   "metadata": {
    "id": "Skaz6fmt5SGo"
   },
   "outputs": [],
   "source": []
  },
  {
   "cell_type": "markdown",
   "metadata": {
    "id": "rzwfCqFN5SGo"
   },
   "source": [
    "## 2. O mundo nos jogos de verão\n",
    "\n",
    "Vamos agora analisar um pouquinho do que aconteceu nas Olimpíadas de verão em todo o mundo.\n",
    "\n",
    "Retome o DataFrame original e descarte as informações sobre os jogos de inverno."
   ]
  },
  {
   "cell_type": "code",
   "execution_count": null,
   "metadata": {
    "id": "mmd0hfLl5SGo"
   },
   "outputs": [],
   "source": []
  },
  {
   "cell_type": "markdown",
   "metadata": {
    "id": "3N0C7qtf5SGo"
   },
   "source": [
    "Obtenha a lista de todos os esportes já disputados nas olimpíadas de verão."
   ]
  },
  {
   "cell_type": "code",
   "execution_count": null,
   "metadata": {
    "id": "z9QrbMwL5SGo"
   },
   "outputs": [],
   "source": []
  },
  {
   "cell_type": "markdown",
   "metadata": {
    "id": "yKd9diEG5SGp"
   },
   "source": [
    "Obtenha a lista de todas as modalidades esportivas já disputadas nas olimpíadas de verão."
   ]
  },
  {
   "cell_type": "code",
   "execution_count": null,
   "metadata": {
    "id": "KYdVSr2b5SGp"
   },
   "outputs": [],
   "source": []
  },
  {
   "cell_type": "markdown",
   "metadata": {
    "id": "PL5rlAyU5SGp"
   },
   "source": [
    "Obtenha a lista de todos os países que já disputaram olimpíadas."
   ]
  },
  {
   "cell_type": "code",
   "execution_count": null,
   "metadata": {
    "id": "fzgmbnGg5SGp"
   },
   "outputs": [],
   "source": []
  },
  {
   "cell_type": "markdown",
   "metadata": {
    "id": "GkgOf12C5SGp"
   },
   "source": [
    "Qual atleta foi o maior medalhista (em medalhas totais) da história das olimpíadas de verão?"
   ]
  },
  {
   "cell_type": "code",
   "execution_count": null,
   "metadata": {
    "id": "TtQrLcR75SGp"
   },
   "outputs": [],
   "source": []
  },
  {
   "cell_type": "markdown",
   "metadata": {
    "id": "t_dbROes5SGp"
   },
   "source": [
    "Qual atleta foi o maior medalhista de ouro da história das olimpíadas de verão?"
   ]
  },
  {
   "cell_type": "code",
   "execution_count": null,
   "metadata": {
    "id": "MNkKnccO5SGp"
   },
   "outputs": [],
   "source": []
  },
  {
   "cell_type": "markdown",
   "metadata": {
    "id": "Q24AhVm35SGp"
   },
   "source": [
    "Qual país foi o maior medalhista de ouro da história das olimpíadas de verão? Lembre-se da questão do evento esportivo, para não considerar múltiplas medalhas para um mesmo evento (ex: uma equipe de futebol fazendo parecer que mais de 20 medalhas foram distribuídas)."
   ]
  },
  {
   "cell_type": "code",
   "execution_count": null,
   "metadata": {
    "id": "tssImhHR5SGp"
   },
   "outputs": [],
   "source": []
  },
  {
   "cell_type": "markdown",
   "metadata": {
    "id": "8KlUnXiH5SGq"
   },
   "source": [
    "Qual país foi o maior medalhista em medalhas totais na história das olimpíadas de verão?"
   ]
  },
  {
   "cell_type": "code",
   "execution_count": null,
   "metadata": {
    "id": "31Vol04r5SGq"
   },
   "outputs": [],
   "source": []
  },
  {
   "cell_type": "markdown",
   "metadata": {
    "id": "Lnd69njD5SGq"
   },
   "source": [
    "Obtenha o total de medalhas de ouro, prata e total por edição das Olimpíadas de verão. Lembre-se da questão do evento esportivo."
   ]
  },
  {
   "cell_type": "code",
   "execution_count": null,
   "metadata": {
    "id": "LlnHArzi5SGq"
   },
   "outputs": [],
   "source": []
  },
  {
   "cell_type": "markdown",
   "metadata": {
    "id": "5PHpMV0-5SGq"
   },
   "source": [
    "## 3. Brasil vs Mundo"
   ]
  },
  {
   "cell_type": "markdown",
   "metadata": {
    "id": "ElpxdyRJ5SGq"
   },
   "source": [
    "Para finalizar, vamos fazer algumas comparações entre Brasil e mundo. Qual o ranking do Brasil em cada edição das olimpíadas? Lembrando que o ranking é ordenado por medalhas de ouro."
   ]
  },
  {
   "cell_type": "code",
   "execution_count": null,
   "metadata": {
    "id": "gfuMZUlv5SGr"
   },
   "outputs": [],
   "source": []
  },
  {
   "cell_type": "markdown",
   "metadata": {
    "id": "KQL9ViJk5SGr"
   },
   "source": [
    "Compare o maior medalhista em ouros do Brasil com o maior medalhista em ouros do mundo."
   ]
  },
  {
   "cell_type": "code",
   "execution_count": null,
   "metadata": {
    "id": "PqPCCG7X5SGr"
   },
   "outputs": [],
   "source": []
  },
  {
   "cell_type": "markdown",
   "metadata": {
    "id": "0jgZ3uX95SGr"
   },
   "source": [
    "Compare o maior medalhista em total de medalhas do Brasil com o maior medalhista em total de medalhas do mundo."
   ]
  },
  {
   "cell_type": "code",
   "execution_count": null,
   "metadata": {
    "id": "sV89yg-t5SGr"
   },
   "outputs": [],
   "source": []
  },
  {
   "cell_type": "markdown",
   "metadata": {
    "id": "jWBWVchr5SGr"
   },
   "source": [
    "Compare o maior medalhista em ouros do Brasil com o maior medalhista do mundo no mesmo esporte."
   ]
  },
  {
   "cell_type": "code",
   "execution_count": null,
   "metadata": {
    "id": "eUoPH2_H5SGr"
   },
   "outputs": [],
   "source": []
  },
  {
   "cell_type": "markdown",
   "metadata": {
    "id": "u43E7J-W5SGr"
   },
   "source": [
    "Compare o maior medalhista em total de medalhas do Brasil com o maior medalhista do mundo no mesmo esporte."
   ]
  },
  {
   "cell_type": "code",
   "execution_count": null,
   "metadata": {
    "id": "JNtMgTyT5SGr"
   },
   "outputs": [],
   "source": []
  },
  {
   "cell_type": "markdown",
   "metadata": {
    "id": "sGZZRo7N5SGr"
   },
   "source": [
    "Calcule o percentual de medalhas de ouro, prata e bronze que o Brasil ganhou em cada olimpíada."
   ]
  },
  {
   "cell_type": "code",
   "execution_count": null,
   "metadata": {
    "id": "cqCzBph15SGr"
   },
   "outputs": [],
   "source": []
  }
 ],
 "metadata": {
  "colab": {
   "name": "Projeto Let's Code - Pandas.ipynb",
   "provenance": []
  },
  "kernelspec": {
   "display_name": "Python 3",
   "language": "python",
   "name": "python3"
  },
  "language_info": {
   "codemirror_mode": {
    "name": "ipython",
    "version": 3
   },
   "file_extension": ".py",
   "mimetype": "text/x-python",
   "name": "python",
   "nbconvert_exporter": "python",
   "pygments_lexer": "ipython3",
   "version": "3.8.8"
  }
 },
 "nbformat": 4,
 "nbformat_minor": 1
}
